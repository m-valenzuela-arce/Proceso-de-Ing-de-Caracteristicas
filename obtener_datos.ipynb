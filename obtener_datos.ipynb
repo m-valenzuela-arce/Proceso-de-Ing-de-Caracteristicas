{
 "cells": [
  {
   "cell_type": "code",
   "execution_count": 16,
   "metadata": {},
   "outputs": [],
   "source": [
    "#Obtención de los datos"
   ]
  },
  {
   "cell_type": "code",
   "execution_count": 17,
   "metadata": {},
   "outputs": [],
   "source": [
    "from urllib import request\n",
    "import py7zr\n",
    "import os"
   ]
  },
  {
   "cell_type": "code",
   "execution_count": 18,
   "metadata": {},
   "outputs": [],
   "source": [
    "path1 = 'https://github.com/m-valenzuela-arce/Proceso-de-Ing-de-Caracteristicas/raw/main/Datos/Calificaciones-2212-21112021-enviar.7z'\n",
    "path2 = 'https://github.com/m-valenzuela-arce/Proceso-de-Ing-de-Caracteristicas/raw/main/Datos/HISTORIAL-Calificaciones-2212-21112021-enviar.7z'"
   ]
  },
  {
   "cell_type": "code",
   "execution_count": 19,
   "metadata": {},
   "outputs": [],
   "source": [
    "directory = os.getcwd()"
   ]
  },
  {
   "cell_type": "code",
   "execution_count": 20,
   "metadata": {},
   "outputs": [
    {
     "data": {
      "text/plain": [
       "('datos2.7z', <http.client.HTTPMessage at 0x1f28fc3e190>)"
      ]
     },
     "execution_count": 20,
     "metadata": {},
     "output_type": "execute_result"
    }
   ],
   "source": [
    "remote_url1 = path1\n",
    "remote_url2 = path2\n",
    "\n",
    "local_file1 = 'datos1.7z'\n",
    "local_file2 = 'datos2.7z'\n",
    "\n",
    "request.urlretrieve(remote_url1, local_file1)\n",
    "request.urlretrieve(remote_url2, local_file2)"
   ]
  },
  {
   "cell_type": "code",
   "execution_count": 22,
   "metadata": {},
   "outputs": [],
   "source": [
    "with py7zr.SevenZipFile(\"datos1.7z\", 'r') as archive:\n",
    "    archive.extractall(path=directory)"
   ]
  }
 ],
 "metadata": {
  "kernelspec": {
   "display_name": "Python 3",
   "language": "python",
   "name": "python3"
  },
  "language_info": {
   "codemirror_mode": {
    "name": "ipython",
    "version": 3
   },
   "file_extension": ".py",
   "mimetype": "text/x-python",
   "name": "python",
   "nbconvert_exporter": "python",
   "pygments_lexer": "ipython3",
   "version": "3.8.5"
  }
 },
 "nbformat": 4,
 "nbformat_minor": 4
}
